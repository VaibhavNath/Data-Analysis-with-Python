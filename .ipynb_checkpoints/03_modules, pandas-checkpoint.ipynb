{
 "cells": [
  {
   "cell_type": "markdown",
   "id": "efe7433f",
   "metadata": {},
   "source": [
    "## Os module"
   ]
  },
  {
   "cell_type": "code",
   "execution_count": 1,
   "id": "fc704630",
   "metadata": {},
   "outputs": [],
   "source": [
    "import os"
   ]
  },
  {
   "cell_type": "code",
   "execution_count": 3,
   "id": "c0bde7b2",
   "metadata": {},
   "outputs": [
    {
     "data": {
      "text/plain": [
       "'C:\\\\Users\\\\ACER\\\\Desktop\\\\Data Analysis with Python'"
      ]
     },
     "execution_count": 3,
     "metadata": {},
     "output_type": "execute_result"
    }
   ],
   "source": [
    "os.getcwd()   #get current working directory"
   ]
  },
  {
   "cell_type": "code",
   "execution_count": 6,
   "id": "27eaa2f6",
   "metadata": {},
   "outputs": [
    {
     "data": {
      "text/plain": [
       "['.ipynb_checkpoints',\n",
       " '01_Introduction to Python.ipynb',\n",
       " '02_Numpy introduction.ipynb',\n",
       " '03_file handling.ipynb']"
      ]
     },
     "execution_count": 6,
     "metadata": {},
     "output_type": "execute_result"
    }
   ],
   "source": [
    "os.listdir()    #list all the files in directory"
   ]
  },
  {
   "cell_type": "code",
   "execution_count": 8,
   "id": "7175f2e9",
   "metadata": {},
   "outputs": [],
   "source": [
    "os.makedirs('data')      #make a new file in directory"
   ]
  },
  {
   "cell_type": "code",
   "execution_count": 10,
   "id": "2c57a460",
   "metadata": {},
   "outputs": [
    {
     "data": {
      "text/plain": [
       "True"
      ]
     },
     "execution_count": 10,
     "metadata": {},
     "output_type": "execute_result"
    }
   ],
   "source": [
    "'data' in os.listdir()    #check if file is in current working directory"
   ]
  },
  {
   "cell_type": "code",
   "execution_count": 11,
   "id": "ef7334d6",
   "metadata": {},
   "outputs": [
    {
     "data": {
      "text/plain": [
       "[]"
      ]
     },
     "execution_count": 11,
     "metadata": {},
     "output_type": "execute_result"
    }
   ],
   "source": [
    "os.listdir('data')    #view content of directory"
   ]
  },
  {
   "cell_type": "markdown",
   "id": "47feb2a9",
   "metadata": {},
   "source": [
    "## Urllib module"
   ]
  },
  {
   "cell_type": "code",
   "execution_count": 1,
   "id": "7456e778",
   "metadata": {},
   "outputs": [],
   "source": [
    "import urllib       "
   ]
  },
  {
   "cell_type": "code",
   "execution_count": 2,
   "id": "2c0bdfd9",
   "metadata": {},
   "outputs": [],
   "source": [
    "url='https://gist.githubusercontent.com/aakashns/f6a004fa20c84fec53262f9a8bfee775/raw/f309558b1cf5103424cef58e2ecb8704dcd4d74c/italy-covid-daywise.csv'"
   ]
  },
  {
   "cell_type": "code",
   "execution_count": 3,
   "id": "cae287aa",
   "metadata": {},
   "outputs": [],
   "source": [
    "from urllib.request import urlretrieve       #used to retrieve url"
   ]
  },
  {
   "cell_type": "code",
   "execution_count": 6,
   "id": "ad415a5c",
   "metadata": {},
   "outputs": [
    {
     "data": {
      "text/plain": [
       "('./data/covid-daywise.csv', <http.client.HTTPMessage at 0x2622af59400>)"
      ]
     },
     "execution_count": 6,
     "metadata": {},
     "output_type": "execute_result"
    }
   ],
   "source": [
    "urlretrieve(url , './data/covid-daywise.csv')    #save the file in current working directory"
   ]
  },
  {
   "cell_type": "code",
   "execution_count": 5,
   "id": "c8f56c3f",
   "metadata": {},
   "outputs": [],
   "source": [
    "import pandas as pd"
   ]
  },
  {
   "cell_type": "code",
   "execution_count": 8,
   "id": "400faf0e",
   "metadata": {},
   "outputs": [],
   "source": [
    "covid_df=pd.read_csv('./data/covid-daywise.csv')"
   ]
  },
  {
   "cell_type": "code",
   "execution_count": 9,
   "id": "090d3dcc",
   "metadata": {},
   "outputs": [
    {
     "data": {
      "text/html": [
       "<div>\n",
       "<style scoped>\n",
       "    .dataframe tbody tr th:only-of-type {\n",
       "        vertical-align: middle;\n",
       "    }\n",
       "\n",
       "    .dataframe tbody tr th {\n",
       "        vertical-align: top;\n",
       "    }\n",
       "\n",
       "    .dataframe thead th {\n",
       "        text-align: right;\n",
       "    }\n",
       "</style>\n",
       "<table border=\"1\" class=\"dataframe\">\n",
       "  <thead>\n",
       "    <tr style=\"text-align: right;\">\n",
       "      <th></th>\n",
       "      <th>date</th>\n",
       "      <th>new_cases</th>\n",
       "      <th>new_deaths</th>\n",
       "      <th>new_tests</th>\n",
       "    </tr>\n",
       "  </thead>\n",
       "  <tbody>\n",
       "    <tr>\n",
       "      <th>0</th>\n",
       "      <td>2019-12-31</td>\n",
       "      <td>0.0</td>\n",
       "      <td>0.0</td>\n",
       "      <td>NaN</td>\n",
       "    </tr>\n",
       "    <tr>\n",
       "      <th>1</th>\n",
       "      <td>2020-01-01</td>\n",
       "      <td>0.0</td>\n",
       "      <td>0.0</td>\n",
       "      <td>NaN</td>\n",
       "    </tr>\n",
       "    <tr>\n",
       "      <th>2</th>\n",
       "      <td>2020-01-02</td>\n",
       "      <td>0.0</td>\n",
       "      <td>0.0</td>\n",
       "      <td>NaN</td>\n",
       "    </tr>\n",
       "    <tr>\n",
       "      <th>3</th>\n",
       "      <td>2020-01-03</td>\n",
       "      <td>0.0</td>\n",
       "      <td>0.0</td>\n",
       "      <td>NaN</td>\n",
       "    </tr>\n",
       "    <tr>\n",
       "      <th>4</th>\n",
       "      <td>2020-01-04</td>\n",
       "      <td>0.0</td>\n",
       "      <td>0.0</td>\n",
       "      <td>NaN</td>\n",
       "    </tr>\n",
       "  </tbody>\n",
       "</table>\n",
       "</div>"
      ],
      "text/plain": [
       "         date  new_cases  new_deaths  new_tests\n",
       "0  2019-12-31        0.0         0.0        NaN\n",
       "1  2020-01-01        0.0         0.0        NaN\n",
       "2  2020-01-02        0.0         0.0        NaN\n",
       "3  2020-01-03        0.0         0.0        NaN\n",
       "4  2020-01-04        0.0         0.0        NaN"
      ]
     },
     "execution_count": 9,
     "metadata": {},
     "output_type": "execute_result"
    }
   ],
   "source": [
    "covid_df.head()"
   ]
  },
  {
   "cell_type": "code",
   "execution_count": 10,
   "id": "723114bd",
   "metadata": {},
   "outputs": [
    {
     "name": "stdout",
     "output_type": "stream",
     "text": [
      "<class 'pandas.core.frame.DataFrame'>\n",
      "RangeIndex: 248 entries, 0 to 247\n",
      "Data columns (total 4 columns):\n",
      " #   Column      Non-Null Count  Dtype  \n",
      "---  ------      --------------  -----  \n",
      " 0   date        248 non-null    object \n",
      " 1   new_cases   248 non-null    float64\n",
      " 2   new_deaths  248 non-null    float64\n",
      " 3   new_tests   135 non-null    float64\n",
      "dtypes: float64(3), object(1)\n",
      "memory usage: 7.9+ KB\n"
     ]
    }
   ],
   "source": [
    "covid_df.info()"
   ]
  },
  {
   "cell_type": "code",
   "execution_count": 12,
   "id": "9d19ca6f",
   "metadata": {},
   "outputs": [
    {
     "data": {
      "text/html": [
       "<div>\n",
       "<style scoped>\n",
       "    .dataframe tbody tr th:only-of-type {\n",
       "        vertical-align: middle;\n",
       "    }\n",
       "\n",
       "    .dataframe tbody tr th {\n",
       "        vertical-align: top;\n",
       "    }\n",
       "\n",
       "    .dataframe thead th {\n",
       "        text-align: right;\n",
       "    }\n",
       "</style>\n",
       "<table border=\"1\" class=\"dataframe\">\n",
       "  <thead>\n",
       "    <tr style=\"text-align: right;\">\n",
       "      <th></th>\n",
       "      <th>new_cases</th>\n",
       "      <th>new_deaths</th>\n",
       "      <th>new_tests</th>\n",
       "    </tr>\n",
       "  </thead>\n",
       "  <tbody>\n",
       "    <tr>\n",
       "      <th>count</th>\n",
       "      <td>248.000000</td>\n",
       "      <td>248.000000</td>\n",
       "      <td>135.000000</td>\n",
       "    </tr>\n",
       "    <tr>\n",
       "      <th>mean</th>\n",
       "      <td>1094.818548</td>\n",
       "      <td>143.133065</td>\n",
       "      <td>31699.674074</td>\n",
       "    </tr>\n",
       "    <tr>\n",
       "      <th>std</th>\n",
       "      <td>1554.508002</td>\n",
       "      <td>227.105538</td>\n",
       "      <td>11622.209757</td>\n",
       "    </tr>\n",
       "    <tr>\n",
       "      <th>min</th>\n",
       "      <td>-148.000000</td>\n",
       "      <td>-31.000000</td>\n",
       "      <td>7841.000000</td>\n",
       "    </tr>\n",
       "    <tr>\n",
       "      <th>25%</th>\n",
       "      <td>123.000000</td>\n",
       "      <td>3.000000</td>\n",
       "      <td>25259.000000</td>\n",
       "    </tr>\n",
       "    <tr>\n",
       "      <th>50%</th>\n",
       "      <td>342.000000</td>\n",
       "      <td>17.000000</td>\n",
       "      <td>29545.000000</td>\n",
       "    </tr>\n",
       "    <tr>\n",
       "      <th>75%</th>\n",
       "      <td>1371.750000</td>\n",
       "      <td>175.250000</td>\n",
       "      <td>37711.000000</td>\n",
       "    </tr>\n",
       "    <tr>\n",
       "      <th>max</th>\n",
       "      <td>6557.000000</td>\n",
       "      <td>971.000000</td>\n",
       "      <td>95273.000000</td>\n",
       "    </tr>\n",
       "  </tbody>\n",
       "</table>\n",
       "</div>"
      ],
      "text/plain": [
       "         new_cases  new_deaths     new_tests\n",
       "count   248.000000  248.000000    135.000000\n",
       "mean   1094.818548  143.133065  31699.674074\n",
       "std    1554.508002  227.105538  11622.209757\n",
       "min    -148.000000  -31.000000   7841.000000\n",
       "25%     123.000000    3.000000  25259.000000\n",
       "50%     342.000000   17.000000  29545.000000\n",
       "75%    1371.750000  175.250000  37711.000000\n",
       "max    6557.000000  971.000000  95273.000000"
      ]
     },
     "execution_count": 12,
     "metadata": {},
     "output_type": "execute_result"
    }
   ],
   "source": [
    "covid_df.describe()"
   ]
  },
  {
   "cell_type": "code",
   "execution_count": 14,
   "id": "01a740e3",
   "metadata": {},
   "outputs": [
    {
     "data": {
      "text/plain": [
       "Index(['date', 'new_cases', 'new_deaths', 'new_tests'], dtype='object')"
      ]
     },
     "execution_count": 14,
     "metadata": {},
     "output_type": "execute_result"
    }
   ],
   "source": [
    "covid_df.columns"
   ]
  },
  {
   "cell_type": "code",
   "execution_count": 15,
   "id": "bc8dbe92",
   "metadata": {},
   "outputs": [
    {
     "data": {
      "text/plain": [
       "(248, 4)"
      ]
     },
     "execution_count": 15,
     "metadata": {},
     "output_type": "execute_result"
    }
   ],
   "source": [
    "covid_df.shape"
   ]
  },
  {
   "cell_type": "code",
   "execution_count": 16,
   "id": "1f704655",
   "metadata": {},
   "outputs": [
    {
     "data": {
      "text/plain": [
       "111"
      ]
     },
     "execution_count": 16,
     "metadata": {},
     "output_type": "execute_result"
    }
   ],
   "source": [
    "covid_df.new_tests.first_valid_index()    #returns the first index where new_tests have a numerical value except nan"
   ]
  },
  {
   "cell_type": "code",
   "execution_count": 17,
   "id": "5aa6595f",
   "metadata": {},
   "outputs": [
    {
     "data": {
      "text/html": [
       "<div>\n",
       "<style scoped>\n",
       "    .dataframe tbody tr th:only-of-type {\n",
       "        vertical-align: middle;\n",
       "    }\n",
       "\n",
       "    .dataframe tbody tr th {\n",
       "        vertical-align: top;\n",
       "    }\n",
       "\n",
       "    .dataframe thead th {\n",
       "        text-align: right;\n",
       "    }\n",
       "</style>\n",
       "<table border=\"1\" class=\"dataframe\">\n",
       "  <thead>\n",
       "    <tr style=\"text-align: right;\">\n",
       "      <th></th>\n",
       "      <th>date</th>\n",
       "      <th>new_cases</th>\n",
       "      <th>new_deaths</th>\n",
       "      <th>new_tests</th>\n",
       "    </tr>\n",
       "  </thead>\n",
       "  <tbody>\n",
       "    <tr>\n",
       "      <th>152</th>\n",
       "      <td>2020-05-31</td>\n",
       "      <td>416.0</td>\n",
       "      <td>111.0</td>\n",
       "      <td>28948.0</td>\n",
       "    </tr>\n",
       "    <tr>\n",
       "      <th>118</th>\n",
       "      <td>2020-04-27</td>\n",
       "      <td>2324.0</td>\n",
       "      <td>260.0</td>\n",
       "      <td>26678.0</td>\n",
       "    </tr>\n",
       "    <tr>\n",
       "      <th>213</th>\n",
       "      <td>2020-07-31</td>\n",
       "      <td>382.0</td>\n",
       "      <td>3.0</td>\n",
       "      <td>29686.0</td>\n",
       "    </tr>\n",
       "    <tr>\n",
       "      <th>187</th>\n",
       "      <td>2020-07-05</td>\n",
       "      <td>235.0</td>\n",
       "      <td>21.0</td>\n",
       "      <td>21166.0</td>\n",
       "    </tr>\n",
       "    <tr>\n",
       "      <th>141</th>\n",
       "      <td>2020-05-20</td>\n",
       "      <td>813.0</td>\n",
       "      <td>162.0</td>\n",
       "      <td>38617.0</td>\n",
       "    </tr>\n",
       "    <tr>\n",
       "      <th>57</th>\n",
       "      <td>2020-02-26</td>\n",
       "      <td>93.0</td>\n",
       "      <td>5.0</td>\n",
       "      <td>NaN</td>\n",
       "    </tr>\n",
       "    <tr>\n",
       "      <th>224</th>\n",
       "      <td>2020-08-11</td>\n",
       "      <td>259.0</td>\n",
       "      <td>4.0</td>\n",
       "      <td>22063.0</td>\n",
       "    </tr>\n",
       "    <tr>\n",
       "      <th>178</th>\n",
       "      <td>2020-06-26</td>\n",
       "      <td>296.0</td>\n",
       "      <td>34.0</td>\n",
       "      <td>28331.0</td>\n",
       "    </tr>\n",
       "    <tr>\n",
       "      <th>72</th>\n",
       "      <td>2020-03-12</td>\n",
       "      <td>2313.0</td>\n",
       "      <td>196.0</td>\n",
       "      <td>NaN</td>\n",
       "    </tr>\n",
       "    <tr>\n",
       "      <th>179</th>\n",
       "      <td>2020-06-27</td>\n",
       "      <td>255.0</td>\n",
       "      <td>30.0</td>\n",
       "      <td>29721.0</td>\n",
       "    </tr>\n",
       "  </tbody>\n",
       "</table>\n",
       "</div>"
      ],
      "text/plain": [
       "           date  new_cases  new_deaths  new_tests\n",
       "152  2020-05-31      416.0       111.0    28948.0\n",
       "118  2020-04-27     2324.0       260.0    26678.0\n",
       "213  2020-07-31      382.0         3.0    29686.0\n",
       "187  2020-07-05      235.0        21.0    21166.0\n",
       "141  2020-05-20      813.0       162.0    38617.0\n",
       "57   2020-02-26       93.0         5.0        NaN\n",
       "224  2020-08-11      259.0         4.0    22063.0\n",
       "178  2020-06-26      296.0        34.0    28331.0\n",
       "72   2020-03-12     2313.0       196.0        NaN\n",
       "179  2020-06-27      255.0        30.0    29721.0"
      ]
     },
     "execution_count": 17,
     "metadata": {},
     "output_type": "execute_result"
    }
   ],
   "source": [
    "covid_df.sample(10)    #used to retrieve a random sample of rows from the data frame."
   ]
  },
  {
   "cell_type": "code",
   "execution_count": 28,
   "id": "4fb3cb58",
   "metadata": {},
   "outputs": [
    {
     "data": {
      "text/plain": [
       "26678.0"
      ]
     },
     "execution_count": 28,
     "metadata": {},
     "output_type": "execute_result"
    }
   ],
   "source": [
    "covid_df['new_tests'][118]"
   ]
  },
  {
   "cell_type": "code",
   "execution_count": 26,
   "id": "d0b25a70",
   "metadata": {},
   "outputs": [
    {
     "data": {
      "text/plain": [
       "26678.0"
      ]
     },
     "execution_count": 26,
     "metadata": {},
     "output_type": "execute_result"
    }
   ],
   "source": [
    "covid_df.at[118 , 'new_tests']"
   ]
  },
  {
   "cell_type": "code",
   "execution_count": 31,
   "id": "f3f5557a",
   "metadata": {},
   "outputs": [
    {
     "data": {
      "text/plain": [
       "26678.0"
      ]
     },
     "execution_count": 31,
     "metadata": {},
     "output_type": "execute_result"
    }
   ],
   "source": [
    "covid_df.new_tests[118]"
   ]
  },
  {
   "cell_type": "code",
   "execution_count": 32,
   "id": "41f4aa0d",
   "metadata": {
    "scrolled": true
   },
   "outputs": [
    {
     "data": {
      "text/html": [
       "<div>\n",
       "<style scoped>\n",
       "    .dataframe tbody tr th:only-of-type {\n",
       "        vertical-align: middle;\n",
       "    }\n",
       "\n",
       "    .dataframe tbody tr th {\n",
       "        vertical-align: top;\n",
       "    }\n",
       "\n",
       "    .dataframe thead th {\n",
       "        text-align: right;\n",
       "    }\n",
       "</style>\n",
       "<table border=\"1\" class=\"dataframe\">\n",
       "  <thead>\n",
       "    <tr style=\"text-align: right;\">\n",
       "      <th></th>\n",
       "      <th>date</th>\n",
       "      <th>new_cases</th>\n",
       "      <th>new_deaths</th>\n",
       "      <th>new_tests</th>\n",
       "    </tr>\n",
       "  </thead>\n",
       "  <tbody>\n",
       "    <tr>\n",
       "      <th>118</th>\n",
       "      <td>2020-04-27</td>\n",
       "      <td>2324.0</td>\n",
       "      <td>260.0</td>\n",
       "      <td>26678.0</td>\n",
       "    </tr>\n",
       "    <tr>\n",
       "      <th>119</th>\n",
       "      <td>2020-04-28</td>\n",
       "      <td>1739.0</td>\n",
       "      <td>333.0</td>\n",
       "      <td>37554.0</td>\n",
       "    </tr>\n",
       "    <tr>\n",
       "      <th>120</th>\n",
       "      <td>2020-04-29</td>\n",
       "      <td>2091.0</td>\n",
       "      <td>382.0</td>\n",
       "      <td>38589.0</td>\n",
       "    </tr>\n",
       "  </tbody>\n",
       "</table>\n",
       "</div>"
      ],
      "text/plain": [
       "           date  new_cases  new_deaths  new_tests\n",
       "118  2020-04-27     2324.0       260.0    26678.0\n",
       "119  2020-04-28     1739.0       333.0    37554.0\n",
       "120  2020-04-29     2091.0       382.0    38589.0"
      ]
     },
     "execution_count": 32,
     "metadata": {},
     "output_type": "execute_result"
    }
   ],
   "source": [
    "covid_df.loc[118:120]"
   ]
  }
 ],
 "metadata": {
  "kernelspec": {
   "display_name": "Python 3",
   "language": "python",
   "name": "python3"
  },
  "language_info": {
   "codemirror_mode": {
    "name": "ipython",
    "version": 3
   },
   "file_extension": ".py",
   "mimetype": "text/x-python",
   "name": "python",
   "nbconvert_exporter": "python",
   "pygments_lexer": "ipython3",
   "version": "3.8.8"
  }
 },
 "nbformat": 4,
 "nbformat_minor": 5
}
